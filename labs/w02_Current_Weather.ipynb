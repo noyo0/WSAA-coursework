{
 "cells": [
  {
   "cell_type": "markdown",
   "metadata": {},
   "source": [
    "Due: Monday, 29 April 2024, 4:45 AM\n",
    "Assignment\n",
    "Using the URL below\n",
    "https://api.open-meteo.com/v1/forecast?latitude=53.82&longitude=-9.5&current=temperature_2m\n",
    "Write a python program called currentweather.py that will print out the current temperature on the console (and only the temperature)\n",
    "I have set the lat/long to my location, you may use that or a different location.\n",
    "\n",
    "Last few marks:\n",
    "Look at the documentation (below) and print out the current wind direction (10m) as well.\n",
    "\n",
    "[🌤️ Free Open-Source Weather API | Open-Meteo.com](https://open-meteo.com/)"
   ]
  },
  {
   "cell_type": "code",
   "execution_count": null,
   "metadata": {},
   "outputs": [],
   "source": [
    "#from https://api.open-meteo.com/v1/forecast?latitude=53.82&longitude=-9.5&current=temperature_2m\n",
    "'''{\n",
    "    \"latitude\": 53.82,\n",
    "    \"longitude\": -9.5,\n",
    "    \"generationtime_ms\": 0.02205371856689453,\n",
    "    \"utc_offset_seconds\": 0,\n",
    "    \"timezone\": \"GMT\",\n",
    "    \"timezone_abbreviation\": \"GMT\",\n",
    "    \"elevation\": 54,\n",
    "    \"current_units\": {\n",
    "        \"time\": \"iso8601\",\n",
    "        \"interval\": \"seconds\",\n",
    "        \"temperature_2m\": \"°C\"\n",
    "    },\n",
    "    \"current\": {\n",
    "        \"time\": \"2024-02-03T11:45\",\n",
    "        \"interval\": 900,\n",
    "        \"temperature_2m\": 9.1\n",
    "    }\n",
    "}'''"
   ]
  },
  {
   "cell_type": "code",
   "execution_count": 3,
   "metadata": {},
   "outputs": [
    {
     "name": "stdout",
     "output_type": "stream",
     "text": [
      "9.2\n"
     ]
    }
   ],
   "source": [
    "import requests\n",
    "import json\n",
    "\n",
    "url = \"https://api.open-meteo.com/v1/forecast?latitude=53.82&longitude=-9.5&current=temperature_2m\"\n",
    "response = requests.get(url)#Sends an HTTP GET request to the specified URL and stores the response.\n",
    "data = response.json()#parse data from JSON format into a python dictionary\n",
    "\n",
    "current = data[\"current\"] #current is the key or head or name of the dictionary object\n",
    "#print(bpi)\n",
    "temperature = current[\"temperature_2m\"] # this will find \"bpi\" -> \"EUR\" -> \"rate\"\n",
    "print(temperature)"
   ]
  },
  {
   "cell_type": "code",
   "execution_count": 13,
   "metadata": {},
   "outputs": [
    {
     "name": "stdout",
     "output_type": "stream",
     "text": [
      "Current temperature at 2m: 9.4°C, \n",
      "Current wind speed at 10m: 18.3km/h\n"
     ]
    }
   ],
   "source": [
    "# get current data from open-metao weather\n",
    "import requests\n",
    "import json\n",
    "\n",
    "lon=-9.5\n",
    "lat=53.82\n",
    "url=f\"https://api.open-meteo.com/v1/forecast?latitude={lat}&longitude={lon}&current=temperature_2m,wind_speed_10m&hourly=temperature_2m,relative_humidity_2m,wind_speed_10m\"\n",
    "\n",
    "response = requests.get(url)#Sends an HTTP GET request to the specified URL and stores the response.\n",
    "data = response.json()#parse data from JSON format into a python dictionary\n",
    "\n",
    "current = data[\"current\"] #current is the key or head or name of the dictionary object in the data(JSON) object\n",
    "units = data[\"current_units\"]\n",
    "#print(bpi)\n",
    "temperature = current[\"temperature_2m\"] # \n",
    "wind = current[\"wind_speed_10m\"]\n",
    "u_temperature = units[\"temperature_2m\"] # \n",
    "u_wind = units[\"wind_speed_10m\"]\n",
    "print(f\"Current temperature at 2m: {temperature}{u_temperature}, \\nCurrent wind speed at 10m: {wind}{u_wind}\")\n"
   ]
  }
 ],
 "metadata": {
  "kernelspec": {
   "display_name": "base",
   "language": "python",
   "name": "python3"
  },
  "language_info": {
   "codemirror_mode": {
    "name": "ipython",
    "version": 3
   },
   "file_extension": ".py",
   "mimetype": "text/x-python",
   "name": "python",
   "nbconvert_exporter": "python",
   "pygments_lexer": "ipython3",
   "version": "3.9.18"
  }
 },
 "nbformat": 4,
 "nbformat_minor": 2
}

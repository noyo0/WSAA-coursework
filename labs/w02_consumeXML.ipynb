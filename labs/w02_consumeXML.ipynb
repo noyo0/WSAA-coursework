{
 "cells": [
  {
   "cell_type": "markdown",
   "metadata": {},
   "source": [
    "## Web Services and Appications\n",
    "### Lab 2: Trains\n",
    "##### Lecturer: Andrew Beatty\n",
    "\n",
    "Write a program that prints the data for all trains in Ireland to the console.\n",
    "(You can modify this to store all the data in a CSV file)\n",
    "Use the Irish rail API<br>\n",
    "**http://api.irishrail.ie/realtime/realtime.asmx/getCurrentTrainsXML**<br>\n",
    "to retrieve the data.\n",
    "Then as an exercise only store trains that have a train code that starts with D:\n",
    "For data sets of this size I would normally get all the data, and perform analysis (deletions) later."
   ]
  },
  {
   "cell_type": "markdown",
   "metadata": {},
   "source": [
    "> Module to navigate HTML and XML Dom trees: xml.dom.minidom.<br> ref: https://docs.python.org/3/library/xml.dom.minidom.html\n"
   ]
  },
  {
   "cell_type": "markdown",
   "metadata": {},
   "source": [
    "#### Reading in XML data from Local file"
   ]
  },
  {
   "cell_type": "code",
   "execution_count": 15,
   "metadata": {},
   "outputs": [
    {
     "name": "stdout",
     "output_type": "stream",
     "text": [
      "<?xml version=\"1.0\" ?>\n",
      "<Company>\n",
      "\t\n",
      "\t\n",
      "\t<Employee category=\"Technical\">\n",
      "\t\t\n",
      "\t\t\n",
      "\t\t<FirstName>\n",
      "\t\t\tJoe\n",
      "\t\t</FirstName>\n",
      "\t\t\n",
      "\t\t\n",
      "\t\t<LastName>\n",
      "\t\t\tMurphy\n",
      "\t\t</LastName>\n",
      "\t\t\n",
      "\t\t\n",
      "\t\t<ContactNo>\n",
      "\t\t\t1234567890\n",
      "\t\t</ContactNo>\n",
      "\t\t\n",
      "\t\n",
      "\t</Employee>\n",
      "\t\n",
      "\t\n",
      "\t<Employee category=\"Non-Technical\">\n",
      "\t\t\n",
      "\t\t\n",
      "\t\t<FirstName>\n",
      "\t\t\tMary\n",
      "\t\t</FirstName>\n",
      "\t\t\n",
      "\t\t\n",
      "\t\t<LastName>\n",
      "\t\t\tMartin\n",
      "\t\t</LastName>\n",
      "\t\t\n",
      "\t\t\n",
      "\t\t<ContactNo>\n",
      "\t\t\t1234667898\n",
      "\t\t</ContactNo>\n",
      "\t\t\n",
      "\t\n",
      "\t</Employee>\n",
      "\t\n",
      "\n",
      "</Company>\n"
     ]
    }
   ],
   "source": [
    "# for navigating local files\n",
    "from xml.dom.minidom import parse\n",
    "filename = \"employees.xml\"\n",
    "# read in file in two ways\n",
    "#1\n",
    "doc = parse(filename)\n",
    "#2\n",
    "with open(filename) as fp:\n",
    "    doc=parse(fp)\n",
    "\n",
    "# check result\n",
    "print(doc.toprettyxml(), end='')\n"
   ]
  },
  {
   "cell_type": "markdown",
   "metadata": {},
   "source": [
    "##### Reading in XML from cloud / online source"
   ]
  },
  {
   "cell_type": "code",
   "execution_count": 1,
   "metadata": {},
   "outputs": [],
   "source": [
    "# for navigating local files\n",
    "import requests\n",
    "from xml.dom.minidom import parseString\n",
    "\n",
    "url=\"http://api.irishrail.ie/realtime/realtime.asmx/getCurrentTrainsXML\"\n",
    "page= requests.get(url)\n",
    "doc= parseString(page.content)\n",
    "\n",
    "# print results\n",
    "#print(doc.toprettyxml(), end='')"
   ]
  },
  {
   "cell_type": "markdown",
   "metadata": {},
   "source": [
    "#### Access data in XML (from local file)"
   ]
  },
  {
   "cell_type": "code",
   "execution_count": 23,
   "metadata": {},
   "outputs": [
    {
     "name": "stdout",
     "output_type": "stream",
     "text": [
      "Joe Murphy\n",
      "Mary Martin\n"
     ]
    }
   ],
   "source": [
    "# Get employee name \n",
    "\n",
    "# load module\n",
    "from xml.dom.minidom import parse\n",
    "# set file path\n",
    "filename = \"employees.xml\"\n",
    "#read in XML\n",
    "doc = parse(filename)\n",
    "#print(doc.toprettyxml(), end='')\n",
    "\n",
    "employeeNodelist=doc.getElementsByTagName(\"Employee\") #get everythin inside the Employee tag\n",
    "\n",
    "for employeeNode in employeeNodelist: #itearate through each item inside Employee\n",
    "    firstNameNode = employeeNode.getElementsByTagName(\"FirstName\").item(0) #first item with a FirstName tag inside current employee\n",
    "    firstName = firstNameNode.firstChild.nodeValue.strip() #value inside FirstName tag without extra spaces\n",
    "    lastNameNode = employeeNode.getElementsByTagName(\"LastName\").item(0) #first item with a LastName tag inside current employee\n",
    "    lastName = lastNameNode.firstChild.nodeValue.strip() #value inside FirstName tag without extra spaces\n",
    "    print(firstName, lastName)\n",
    "\n",
    "#Access FirstName\n",
    "#firstName = firstNameNode.firstchild.nodevalue.strip()\n",
    "    "
   ]
  }
 ],
 "metadata": {
  "kernelspec": {
   "display_name": "base",
   "language": "python",
   "name": "python3"
  },
  "language_info": {
   "codemirror_mode": {
    "name": "ipython",
    "version": 3
   },
   "file_extension": ".py",
   "mimetype": "text/x-python",
   "name": "python",
   "nbconvert_exporter": "python",
   "pygments_lexer": "ipython3",
   "version": "3.9.18"
  }
 },
 "nbformat": 4,
 "nbformat_minor": 2
}
